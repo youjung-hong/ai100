{
 "cells": [
  {
   "attachments": {},
   "cell_type": "markdown",
   "id": "ad396617",
   "metadata": {},
   "source": [
    "1. numpy 모듈의 호출"
   ]
  },
  {
   "cell_type": "code",
   "execution_count": 1,
   "id": "873a0d52",
   "metadata": {
    "scrolled": true
   },
   "outputs": [],
   "source": [
    "import numpy as np"
   ]
  },
  {
   "attachments": {},
   "cell_type": "markdown",
   "id": "222276d0",
   "metadata": {},
   "source": [
    "2. array의 생성"
   ]
  },
  {
   "cell_type": "code",
   "execution_count": 2,
   "id": "4e6186ac",
   "metadata": {},
   "outputs": [
    {
     "data": {
      "text/plain": [
       "array([1., 4., 5., 8.])"
      ]
     },
     "execution_count": 2,
     "metadata": {},
     "output_type": "execute_result"
    }
   ],
   "source": [
    "test_array = np.array([\"1\", \"4\", 5, 8], float)\n",
    "test_array"
   ]
  },
  {
   "cell_type": "code",
   "execution_count": 3,
   "id": "ceac63a2",
   "metadata": {},
   "outputs": [
    {
     "data": {
      "text/plain": [
       "numpy.float64"
      ]
     },
     "execution_count": 3,
     "metadata": {},
     "output_type": "execute_result"
    }
   ],
   "source": [
    "type(test_array[3])"
   ]
  },
  {
   "cell_type": "code",
   "execution_count": 16,
   "id": "d351d1e8",
   "metadata": {},
   "outputs": [
    {
     "name": "stdout",
     "output_type": "stream",
     "text": [
      "[1. 4. 5. 8.]\n",
      "float64\n",
      "(4,)\n",
      "1\n",
      "4\n"
     ]
    }
   ],
   "source": [
    "test_array = np.array([1, 4, 5, \"8\"], float)\n",
    "print(test_array)\n",
    "print(test_array.dtype)\n",
    "print(test_array.shape) # 매트릭스 크기 - 1차원배열 4, \n",
    "print(test_array.ndim)  # 몇 차원 배열\n",
    "print(test_array.size)  # 엘리먼트 총 갯수"
   ]
  },
  {
   "cell_type": "code",
   "execution_count": 17,
   "id": "0a5a5afa",
   "metadata": {},
   "outputs": [
    {
     "name": "stdout",
     "output_type": "stream",
     "text": [
      "[list([1, 2, 3, 4]) list([1, 2])]\n",
      "object\n",
      "(2,)\n",
      "1\n",
      "2\n"
     ]
    },
    {
     "name": "stderr",
     "output_type": "stream",
     "text": [
      "/var/folders/75/fxnqr1vj31784wlwqckw0n4w0000gn/T/ipykernel_97651/2288474582.py:1: VisibleDeprecationWarning: Creating an ndarray from ragged nested sequences (which is a list-or-tuple of lists-or-tuples-or ndarrays with different lengths or shapes) is deprecated. If you meant to do this, you must specify 'dtype=object' when creating the ndarray.\n",
      "  test_array = np.array([[1, 2, 3, 4], [1, 2]])\n"
     ]
    }
   ],
   "source": [
    "test_array = np.array([[1, 2, 3, 4], [1, 2]])\n",
    "print(test_array)\n",
    "print(test_array.dtype)\n",
    "print(test_array.shape) # 배열의 크기가 다르면, 1차원 배열로 본다\n",
    "print(test_array.ndim)\n",
    "print(test_array.size)"
   ]
  },
  {
   "cell_type": "code",
   "execution_count": 19,
   "id": "4f9ed036",
   "metadata": {},
   "outputs": [
    {
     "name": "stdout",
     "output_type": "stream",
     "text": [
      "[[1. 2. 3. 4.]\n",
      " [1. 2. 3. 4.]]\n",
      "float64\n",
      "(2, 4)\n",
      "2\n",
      "8\n"
     ]
    }
   ],
   "source": [
    "test_array = np.array([[1, 2, 3, 4], [1, 2, 3, 4]], float)\n",
    "print(test_array)\n",
    "print(test_array.dtype)\n",
    "print(test_array.shape) # 배열의 크기가 같아야, 2차원 배열로 본다\n",
    "print(test_array.ndim)\n",
    "print(test_array.size)"
   ]
  }
 ],
 "metadata": {
  "kernelspec": {
   "display_name": "Python 3 (ipykernel)",
   "language": "python",
   "name": "python3"
  },
  "language_info": {
   "codemirror_mode": {
    "name": "ipython",
    "version": 3
   },
   "file_extension": ".py",
   "mimetype": "text/x-python",
   "name": "python",
   "nbconvert_exporter": "python",
   "pygments_lexer": "ipython3",
   "version": "3.11.2"
  }
 },
 "nbformat": 4,
 "nbformat_minor": 5
}
