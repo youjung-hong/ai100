{
 "cells": [
  {
   "cell_type": "code",
   "execution_count": 1,
   "metadata": {},
   "outputs": [],
   "source": [
    "import numpy as np"
   ]
  },
  {
   "cell_type": "code",
   "execution_count": 7,
   "metadata": {},
   "outputs": [],
   "source": [
    "def softmax(vec):\n",
    "    denumerator = np.exp(vec - np.max(vec, axis=-1, keepdims=True))\n",
    "    numerator = np.sum(denumerator, axis=-1, keepdims=True)\n",
    "    val = denumerator / numerator\n",
    "    return val"
   ]
  },
  {
   "cell_type": "code",
   "execution_count": 16,
   "metadata": {},
   "outputs": [
    {
     "name": "stdout",
     "output_type": "stream",
     "text": [
      "max [[ 2]\n",
      " [ 1]\n",
      " [10]]\n",
      "diff [[ -1   0  -2]\n",
      " [ -2  -1   0]\n",
      " [-20 -10   0]]\n",
      "exp [[3.67879441e-01 1.00000000e+00 1.35335283e-01]\n",
      " [1.35335283e-01 3.67879441e-01 1.00000000e+00]\n",
      " [2.06115362e-09 4.53999298e-05 1.00000000e+00]]\n",
      "sum [[1.50321472]\n",
      " [1.50321472]\n",
      " [1.0000454 ]]\n"
     ]
    }
   ],
   "source": [
    "vec = np.array([[1, 2, 0], [-1, 0, 1], [-10, 0, 10]])\n",
    "\n",
    "print('max', np.max(vec, axis=-1, keepdims=True)) # [[2], [1], [10]]\n",
    "print('diff', vec - np.max(vec, axis=-1, keepdims=True)) #[[-1, 0, -2], [-2, -1, 0], [-20, -10, 0]]\n",
    "print('exp', np.exp(vec - np.max(vec, axis=-1, keepdims=True))) #[[e^-1, e^0, e^-2], [e^-2, e^-1, e^0], [e^-20, e^-10, e^0]]\n",
    "print('sum', np.sum(np.exp(vec - np.max(vec, axis=-1, keepdims=True)), axis=-1, keepdims=True)) # [[e^-1 + e^0 + e^-2], [e^-2 + e^-1 + e^0], [e^-20 + e^-10 + e^0]]"
   ]
  },
  {
   "cell_type": "code",
   "execution_count": 17,
   "metadata": {},
   "outputs": [
    {
     "data": {
      "text/plain": [
       "array([[2.44728471e-01, 6.65240956e-01, 9.00305732e-02],\n",
       "       [9.00305732e-02, 2.44728471e-01, 6.65240956e-01],\n",
       "       [2.06106005e-09, 4.53978686e-05, 9.99954600e-01]])"
      ]
     },
     "execution_count": 17,
     "metadata": {},
     "output_type": "execute_result"
    }
   ],
   "source": [
    "softmax(vec)"
   ]
  }
 ],
 "metadata": {
  "kernelspec": {
   "display_name": "ml_scratch",
   "language": "python",
   "name": "python3"
  },
  "language_info": {
   "codemirror_mode": {
    "name": "ipython",
    "version": 3
   },
   "file_extension": ".py",
   "mimetype": "text/x-python",
   "name": "python",
   "nbconvert_exporter": "python",
   "pygments_lexer": "ipython3",
   "version": "3.11.3"
  },
  "orig_nbformat": 4
 },
 "nbformat": 4,
 "nbformat_minor": 2
}
